{
 "cells": [
  {
   "cell_type": "code",
   "execution_count": 12,
   "id": "1cd1c3fd",
   "metadata": {},
   "outputs": [
    {
     "name": "stdout",
     "output_type": "stream",
     "text": [
      "Accuracy: 0.985\n"
     ]
    },
    {
     "data": {
      "text/plain": [
       "['../model/student_model.pkl']"
      ]
     },
     "execution_count": 12,
     "metadata": {},
     "output_type": "execute_result"
    }
   ],
   "source": [
    "import pandas as pd\n",
    "from sklearn.model_selection import train_test_split\n",
    "from sklearn.ensemble import RandomForestClassifier\n",
    "from sklearn.metrics import accuracy_score\n",
    "import joblib\n",
    "\n",
    "df = pd.read_csv(\"../data/StudentsPerformance.csv\")\n",
    "\n",
    "# Feature Engineering\n",
    "df['average_score'] = df[['math score', 'reading score', 'writing score']].mean(axis=1)\n",
    "df['pass'] = (df['average_score'] >= 50).astype(int)\n",
    "df_encoded = pd.get_dummies(df.drop(columns=['average_score']), drop_first=True)\n",
    "\n",
    "X = df_encoded.drop(\"pass\", axis=1)\n",
    "y = df_encoded[\"pass\"]\n",
    "\n",
    "X_train, X_test, y_train, y_test = train_test_split(X, y, test_size=0.2, random_state=42)\n",
    "\n",
    "model = RandomForestClassifier()\n",
    "model.fit(X_train, y_train)\n",
    "\n",
    "# Evaluate and Save\n",
    "print(\"Accuracy:\", accuracy_score(y_test, model.predict(X_test)))\n",
    "joblib.dump(model, \"../model/student_model.pkl\")\n",
    "\n",
    "\n",
    "\n",
    "\n"
   ]
  }
 ],
 "metadata": {
  "kernelspec": {
   "display_name": "Python 3",
   "language": "python",
   "name": "python3"
  },
  "language_info": {
   "codemirror_mode": {
    "name": "ipython",
    "version": 3
   },
   "file_extension": ".py",
   "mimetype": "text/x-python",
   "name": "python",
   "nbconvert_exporter": "python",
   "pygments_lexer": "ipython3",
   "version": "3.12.0"
  }
 },
 "nbformat": 4,
 "nbformat_minor": 5
}
